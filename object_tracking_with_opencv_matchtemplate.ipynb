{
 "cells": [
  {
   "cell_type": "code",
   "execution_count": 27,
   "metadata": {},
   "outputs": [],
   "source": [
    "import cv2\n",
    "import numpy as np"
   ]
  },
  {
   "cell_type": "code",
   "execution_count": 28,
   "metadata": {},
   "outputs": [],
   "source": [
    "def capture_template():\n",
    "    # To capture video from webcam. \n",
    "    cap = cv2.VideoCapture(0)\n",
    "\n",
    "    # select region\n",
    "    while True:\n",
    "        # Read the frame and Convert to grayscale\n",
    "        _, img = cap.read()\n",
    "        img = cv2.flip(img, 1)\n",
    "\n",
    "        # Convert to gray\n",
    "        gray = cv2.cvtColor(img, cv2.COLOR_BGR2GRAY)\n",
    "        \n",
    "        # draw rectangle area\n",
    "        top_left = (200, 300)\n",
    "        bottom_right = (350, 400)\n",
    "        \n",
    "        cv2.rectangle(img, top_left, bottom_right, (0, 255, 0), 2)\n",
    "\n",
    "        # Display\n",
    "        cv2.imshow('img', img)\n",
    "\n",
    "        # press the 'c' key\n",
    "        if cv2.waitKey(33) == ord('c'):  \n",
    "            break\n",
    "\n",
    "    # create a template\n",
    "    template = gray[300:400, 200:350]\n",
    "    \n",
    "    cv2.imshow('template', template)\n",
    "    cv2.waitKey(0) # press any keys\n",
    "    \n",
    "    return cap, template"
   ]
  },
  {
   "cell_type": "code",
   "execution_count": 29,
   "metadata": {},
   "outputs": [],
   "source": [
    "def track_object(cap, template):\n",
    "    # tracking\n",
    "    while True:\n",
    "        # Read the frame and Convert to grayscale\n",
    "        _, img = cap.read()\n",
    "        img = cv2.flip(img, 1)\n",
    "\n",
    "        # Convert to gray\n",
    "        gray = cv2.cvtColor(img, cv2.COLOR_BGR2GRAY)\n",
    "\n",
    "        # Track the object\n",
    "        corr_map = cv2.matchTemplate(gray, template, cv2.TM_CCOEFF_NORMED)\n",
    "        min_val, max_val, min_loc, max_loc = cv2.minMaxLoc(corr_map) \n",
    "\n",
    "        # take minimum\n",
    "        top_left = max_loc\n",
    "        h, w = template.shape\n",
    "        bottom_right = (top_left[0] + w, top_left[1] + h)\n",
    "\n",
    "        # draw \n",
    "        cv2.rectangle(img, top_left, bottom_right, (0, 255, 0), 2)\n",
    "\n",
    "        # Display\n",
    "        cv2.imshow('img', img)\n",
    "\n",
    "        # press the 'e' key\n",
    "        if cv2.waitKey(33) == ord('e'):  \n",
    "            break\n",
    "    \n",
    "    return cap"
   ]
  },
  {
   "cell_type": "code",
   "execution_count": 30,
   "metadata": {},
   "outputs": [],
   "source": [
    "def release(cap):\n",
    "    # Release the VideoCapture object\n",
    "    cap.release()\n",
    "    cv2.destroyAllWindows()"
   ]
  },
  {
   "cell_type": "code",
   "execution_count": 31,
   "metadata": {},
   "outputs": [],
   "source": [
    "cap, template = capture_template()\n",
    "cap = track_object(cap, template)\n",
    "release(cap)"
   ]
  }
 ],
 "metadata": {
  "kernelspec": {
   "display_name": "Python 3.10.4 64-bit",
   "language": "python",
   "name": "python3"
  },
  "language_info": {
   "codemirror_mode": {
    "name": "ipython",
    "version": 3
   },
   "file_extension": ".py",
   "mimetype": "text/x-python",
   "name": "python",
   "nbconvert_exporter": "python",
   "pygments_lexer": "ipython3",
   "version": "3.10.4"
  },
  "orig_nbformat": 4,
  "vscode": {
   "interpreter": {
    "hash": "c5b339f64b25fa3d208e98c0a31272fcec3830d0cb7cb50b2e276a8fe9331da6"
   }
  }
 },
 "nbformat": 4,
 "nbformat_minor": 2
}
